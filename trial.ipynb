{
 "cells": [
  {
   "cell_type": "code",
   "execution_count": 18,
   "metadata": {},
   "outputs": [],
   "source": [
    "import os\n",
    "import yaml"
   ]
  },
  {
   "cell_type": "code",
   "execution_count": 12,
   "metadata": {},
   "outputs": [],
   "source": [
    "dic={}\n",
    "i=10\n",
    "with open('test.csv',mode='r') as csv_file:\n",
    "    csv_reader=csv.DictReader(csv_file)\n",
    "    for row in csv_reader:\n",
    "        i=int(row['10'])\n",
    "        #print(row)\n",
    "        if i not in dic.keys():\n",
    "            j=(row['[0]'])\n",
    "            dic[i]=[[int(row['0']),int(j[1])]]\n",
    "        else:\n",
    "            j=(row['[0]'])\n",
    "            dic[i].append([int(row['0']),int(j[1])])"
   ]
  },
  {
   "cell_type": "code",
   "execution_count": 13,
   "metadata": {},
   "outputs": [
    {
     "name": "stdout",
     "output_type": "stream",
     "text": [
      "[[1, 0], [2, 1], [3, 1], [4, 1], [5, 0], [6, 2], [7, 0], [8, 4], [9, 4], [10, 4], [11, 4], [12, 4], [13, 0], [14, 0], [15, 5], [16, 0], [17, 0], [18, 0]]\n"
     ]
    }
   ],
   "source": [
    "print(dic[10])"
   ]
  },
  {
   "cell_type": "code",
   "execution_count": 21,
   "metadata": {},
   "outputs": [],
   "source": [
    "list1=[]\n",
    "list2=[]"
   ]
  },
  {
   "cell_type": "code",
   "execution_count": 22,
   "metadata": {},
   "outputs": [],
   "source": [
    "for i in dic[10]:\n",
    "    list1.append(i[1])\n",
    "    list2.append(i[0])"
   ]
  },
  {
   "cell_type": "code",
   "execution_count": 23,
   "metadata": {},
   "outputs": [],
   "source": [
    "list1, list2 = zip(*sorted(zip(list1, list2)))"
   ]
  },
  {
   "cell_type": "code",
   "execution_count": 24,
   "metadata": {},
   "outputs": [
    {
     "data": {
      "text/plain": [
       "(0, 0, 0, 0, 0, 0, 0, 0, 1, 1, 1, 2, 4, 4, 4, 4, 4, 5)"
      ]
     },
     "execution_count": 24,
     "metadata": {},
     "output_type": "execute_result"
    }
   ],
   "source": [
    "list1"
   ]
  },
  {
   "cell_type": "code",
   "execution_count": 25,
   "metadata": {},
   "outputs": [
    {
     "data": {
      "text/plain": [
       "(1, 5, 7, 13, 14, 16, 17, 18, 2, 3, 4, 6, 8, 9, 10, 11, 12, 15)"
      ]
     },
     "execution_count": 25,
     "metadata": {},
     "output_type": "execute_result"
    }
   ],
   "source": [
    "list2"
   ]
  },
  {
   "cell_type": "code",
   "execution_count": 56,
   "metadata": {},
   "outputs": [],
   "source": [
    "dict_1={}"
   ]
  },
  {
   "cell_type": "code",
   "execution_count": 57,
   "metadata": {},
   "outputs": [
    {
     "name": "stdout",
     "output_type": "stream",
     "text": [
      "0\n",
      "0\n",
      "0\n",
      "0\n",
      "0\n",
      "0\n",
      "0\n",
      "0\n",
      "1\n",
      "1\n",
      "1\n",
      "2\n",
      "4\n",
      "4\n",
      "4\n",
      "4\n",
      "4\n",
      "5\n"
     ]
    }
   ],
   "source": [
    "for i in range(len(list1)):\n",
    "    print(list1[i])\n",
    "    if list1[i]==0:\n",
    "        continue\n",
    "    elif list1[i] not in dict_1.keys():\n",
    "        j=[list2[i]]\n",
    "        dict_1[list1[i]]=list(j)\n",
    "    else:\n",
    "        dict_1[list1[i]].append(list2[i])\n"
   ]
  },
  {
   "cell_type": "code",
   "execution_count": 58,
   "metadata": {},
   "outputs": [
    {
     "name": "stdout",
     "output_type": "stream",
     "text": [
      "{1: [2, 3, 4], 2: [6], 4: [8, 9, 10, 11, 12], 5: [15]}\n"
     ]
    }
   ],
   "source": [
    "print(dict_1)"
   ]
  },
  {
   "cell_type": "code",
   "execution_count": 66,
   "metadata": {},
   "outputs": [
    {
     "name": "stdout",
     "output_type": "stream",
     "text": [
      "2\n",
      "3\n",
      "4\n",
      "A. WHAT KIND OF INFORMATION WE COLLECT a. Personal Information. We do not collect Personal Information. \"Personal Information\" is information that identifies you or another person, which may be transmitted or received when you use an Application, the Services and/or the Site. ion includes your names, physical addresses, email addresses, telephone, fax, SSN, information stored within your Device and other information you transmit or receive using an Application, the Service and or the Site which identifies you or another person.b. Non-personal identification. We may collect non-personal identification information about installed applications, application usage information and device information.The information you give us, for example, when you give us your opinions to our application and services via our feedback channel, such as your email address, and names;\n",
      "6\n",
      "b. Non- Personal Information. We may use Non-Personal Information only for serving you better as below: 1.To personalize user experience; 2.To help develop our service- We may use Non- Personal Information to provide, maintain, improve and develop our services;\n",
      "8\n",
      "9\n",
      "10\n",
      "11\n",
      "12\n",
      "C. HOW YOUR INFORMATION MAY BE DISCLOSED a. Personal Information. We do not store Personal Information and therefore we do not disclose your Personal Information.b. Non-Personal Information. We do not sell, trade, or otherwise transfer to outside parties your information. We do not combine Non-Personal Information with Personal Information (such as combining your name with your unique User Device number).c. We may disclose your non-personal information for promotion purpose to our trusted partners who shall comply with this privacy policy and the relevant privacy lawsD. THIRD- PARTY SITES In general, the Applications, the Services and the Site access third party information (such as your Facebook account information) through application interfaces. We may provide links to third-party Web sites, such as Facebook, as a service to our Users. The Site may also carry advertisements from other companies. When you click on links of third parties in an Application, the Services or the Site, you may leave the Application, the Services or the Site. Some of these third party sites may be co-branded with our name/logo or our affiliated entity's name/logo, even though they are not operated or maintained by us. This Policy does not address, and we are not responsible for, the privacy practices of Web sites operated by third parties, whether they are linked to or otherwise accessible from an Application, the Services or the Site. The inclusion of a link or accessibility of third party Websites does not imply endorsement of such third party Website by us.E. USERS WITH WHOM YOU SHARE YOUR INFORMATION We cannot control the actions of other Users with whom you share your information. We cannot, and do not, control the information you share with other Users using an Application, the Services or the Site (including via Forums) or how such other Users will use or share such information. We are not responsible for third party circumvention of our security measures.\n",
      "15\n",
      "H. CONTACTING US / REPORTING VIOLATIONS If you have any questions or comments about this Policy or our privacy practices, or to report any violations of the Policy or abuse of an Application, the Services or the Site, please contact us at support@cmcm.com.\n"
     ]
    }
   ],
   "source": [
    "for i in dict_1:\n",
    "    s=''\n",
    "    for j in dict_1[i]:\n",
    "        print(j)\n",
    "        name='policy_'+str(10)+'.yml'\n",
    "        with open('dataset/annotations/'+name) as file:\n",
    "            segment_list = yaml.load(file, Loader=yaml.FullLoader)\n",
    "        for i in segment_list['segments']:\n",
    "            # print(i['segment_id'])\n",
    "            # print(row['0'])\n",
    "            if int(i['segment_id'])==j:\n",
    "                #print(\"hell\")\n",
    "                k=i['segment_text']\n",
    "                s+=k\n",
    "    print(s)"
   ]
  },
  {
   "cell_type": "code",
   "execution_count": null,
   "metadata": {},
   "outputs": [],
   "source": []
  }
 ],
 "metadata": {
  "kernelspec": {
   "display_name": "Python 3",
   "language": "python",
   "name": "python3"
  },
  "language_info": {
   "codemirror_mode": {
    "name": "ipython",
    "version": 3
   },
   "file_extension": ".py",
   "mimetype": "text/x-python",
   "name": "python",
   "nbconvert_exporter": "python",
   "pygments_lexer": "ipython3",
   "version": "3.6.2"
  }
 },
 "nbformat": 4,
 "nbformat_minor": 2
}
