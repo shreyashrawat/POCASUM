{
  "nbformat": 4,
  "nbformat_minor": 0,
  "metadata": {
    "kernelspec": {
      "display_name": "Python 3",
      "language": "python",
      "name": "python3"
    },
    "language_info": {
      "codemirror_mode": {
        "name": "ipython",
        "version": 3
      },
      "file_extension": ".py",
      "mimetype": "text/x-python",
      "name": "python",
      "nbconvert_exporter": "python",
      "pygments_lexer": "ipython3",
      "version": "3.6.2"
    },
    "colab": {
      "name": "Summarizer.ipynb",
      "provenance": []
    }
  },
  "cells": [
    {
      "cell_type": "code",
      "metadata": {
        "id": "tru7o_DmmI0O",
        "outputId": "510b24d0-e77f-45d2-fdb4-7bcea7554169"
      },
      "source": [
        "import skipthoughts\n",
        "\n",
        "model = skipthoughts.load_model()\n",
        "encoder = skipthoughts.Encoder(model)"
      ],
      "execution_count": null,
      "outputs": [
        {
          "output_type": "stream",
          "text": [
            "Loading model parameters...\n",
            "Compiling encoders...\n",
            "Loading tables...\n",
            "Packing up...\n"
          ],
          "name": "stdout"
        }
      ]
    },
    {
      "cell_type": "code",
      "metadata": {
        "id": "vigy6OhWmI0U"
      },
      "source": [
        "from nltk.tokenize import sent_tokenize\n",
        "\n"
      ],
      "execution_count": null,
      "outputs": []
    },
    {
      "cell_type": "code",
      "metadata": {
        "id": "-WITj2WxmI0V"
      },
      "source": [
        "import pandas as pd\n",
        "import numpy as np"
      ],
      "execution_count": null,
      "outputs": []
    },
    {
      "cell_type": "code",
      "metadata": {
        "id": "_apPVKJgmI0V",
        "outputId": "02cef083-8105-4380-8ae8-dd91b1b4ac8d"
      },
      "source": [
        "p = int(input(\"Enter policy number\"))\n",
        "a = int(input(\"Enter attribute\"))"
      ],
      "execution_count": null,
      "outputs": [
        {
          "output_type": "stream",
          "text": [
            "Enter policy number13\n",
            "Enter attribute1\n"
          ],
          "name": "stdout"
        }
      ]
    },
    {
      "cell_type": "code",
      "metadata": {
        "id": "QPcKtZnOmI0W"
      },
      "source": [
        "data = pd.read_csv(\"../summary.csv\", header = None)"
      ],
      "execution_count": null,
      "outputs": []
    },
    {
      "cell_type": "code",
      "metadata": {
        "id": "K9hYfybZmI0W",
        "outputId": "aa444f7c-2c85-47b8-e895-de367839a407"
      },
      "source": [
        "data.head()"
      ],
      "execution_count": null,
      "outputs": [
        {
          "output_type": "execute_result",
          "data": {
            "text/html": [
              "<div>\n",
              "<style scoped>\n",
              "    .dataframe tbody tr th:only-of-type {\n",
              "        vertical-align: middle;\n",
              "    }\n",
              "\n",
              "    .dataframe tbody tr th {\n",
              "        vertical-align: top;\n",
              "    }\n",
              "\n",
              "    .dataframe thead th {\n",
              "        text-align: right;\n",
              "    }\n",
              "</style>\n",
              "<table border=\"1\" class=\"dataframe\">\n",
              "  <thead>\n",
              "    <tr style=\"text-align: right;\">\n",
              "      <th></th>\n",
              "      <th>0</th>\n",
              "      <th>1</th>\n",
              "      <th>2</th>\n",
              "    </tr>\n",
              "  </thead>\n",
              "  <tbody>\n",
              "    <tr>\n",
              "      <td>0</td>\n",
              "      <td>10</td>\n",
              "      <td>1</td>\n",
              "      <td>A. WHAT KIND OF INFORMATION WE COLLECT a. Pers...</td>\n",
              "    </tr>\n",
              "    <tr>\n",
              "      <td>1</td>\n",
              "      <td>10</td>\n",
              "      <td>2</td>\n",
              "      <td>B. HOW WE USE COLLECTED INFORMATION a. Persona...</td>\n",
              "    </tr>\n",
              "    <tr>\n",
              "      <td>2</td>\n",
              "      <td>10</td>\n",
              "      <td>3</td>\n",
              "      <td>NaN</td>\n",
              "    </tr>\n",
              "    <tr>\n",
              "      <td>3</td>\n",
              "      <td>10</td>\n",
              "      <td>4</td>\n",
              "      <td>C. HOW YOUR INFORMATION MAY BE DISCLOSED a. Pe...</td>\n",
              "    </tr>\n",
              "    <tr>\n",
              "      <td>4</td>\n",
              "      <td>10</td>\n",
              "      <td>5</td>\n",
              "      <td>H. CONTACTING US / REPORTING VIOLATIONS If you...</td>\n",
              "    </tr>\n",
              "  </tbody>\n",
              "</table>\n",
              "</div>"
            ],
            "text/plain": [
              "    0  1                                                  2\n",
              "0  10  1  A. WHAT KIND OF INFORMATION WE COLLECT a. Pers...\n",
              "1  10  2  B. HOW WE USE COLLECTED INFORMATION a. Persona...\n",
              "2  10  3                                                NaN\n",
              "3  10  4  C. HOW YOUR INFORMATION MAY BE DISCLOSED a. Pe...\n",
              "4  10  5  H. CONTACTING US / REPORTING VIOLATIONS If you..."
            ]
          },
          "metadata": {
            "tags": []
          },
          "execution_count": 96
        }
      ]
    },
    {
      "cell_type": "code",
      "metadata": {
        "id": "RZYGjhgRmI0X"
      },
      "source": [
        "data.columns = ['policy_no', 'attribute', 'raw_text']"
      ],
      "execution_count": null,
      "outputs": []
    },
    {
      "cell_type": "code",
      "metadata": {
        "id": "5BaXKlv8mI0X",
        "outputId": "c53bdf26-b85c-4dc5-ae6c-4caec5b48ddb"
      },
      "source": [
        "data[data['policy_no']==(p) ]"
      ],
      "execution_count": null,
      "outputs": [
        {
          "output_type": "execute_result",
          "data": {
            "text/html": [
              "<div>\n",
              "<style scoped>\n",
              "    .dataframe tbody tr th:only-of-type {\n",
              "        vertical-align: middle;\n",
              "    }\n",
              "\n",
              "    .dataframe tbody tr th {\n",
              "        vertical-align: top;\n",
              "    }\n",
              "\n",
              "    .dataframe thead th {\n",
              "        text-align: right;\n",
              "    }\n",
              "</style>\n",
              "<table border=\"1\" class=\"dataframe\">\n",
              "  <thead>\n",
              "    <tr style=\"text-align: right;\">\n",
              "      <th></th>\n",
              "      <th>policy_no</th>\n",
              "      <th>attribute</th>\n",
              "      <th>raw_text</th>\n",
              "    </tr>\n",
              "  </thead>\n",
              "  <tbody>\n",
              "    <tr>\n",
              "      <td>15</td>\n",
              "      <td>13</td>\n",
              "      <td>1</td>\n",
              "      <td>Information You Give Us We may collect informa...</td>\n",
              "    </tr>\n",
              "    <tr>\n",
              "      <td>16</td>\n",
              "      <td>13</td>\n",
              "      <td>2</td>\n",
              "      <td>We may log information using \"cookies.\" Cookie...</td>\n",
              "    </tr>\n",
              "    <tr>\n",
              "      <td>17</td>\n",
              "      <td>13</td>\n",
              "      <td>3</td>\n",
              "      <td>NaN</td>\n",
              "    </tr>\n",
              "    <tr>\n",
              "      <td>18</td>\n",
              "      <td>13</td>\n",
              "      <td>4</td>\n",
              "      <td>Sharing of personal information We may share t...</td>\n",
              "    </tr>\n",
              "    <tr>\n",
              "      <td>19</td>\n",
              "      <td>13</td>\n",
              "      <td>5</td>\n",
              "      <td>Your California privacy rights For California ...</td>\n",
              "    </tr>\n",
              "  </tbody>\n",
              "</table>\n",
              "</div>"
            ],
            "text/plain": [
              "    policy_no  attribute                                           raw_text\n",
              "15         13          1  Information You Give Us We may collect informa...\n",
              "16         13          2  We may log information using \"cookies.\" Cookie...\n",
              "17         13          3                                                NaN\n",
              "18         13          4  Sharing of personal information We may share t...\n",
              "19         13          5  Your California privacy rights For California ..."
            ]
          },
          "metadata": {
            "tags": []
          },
          "execution_count": 98
        }
      ]
    },
    {
      "cell_type": "code",
      "metadata": {
        "id": "WL-FtP-nmI0X"
      },
      "source": [
        "Y = data[data['policy_no']==(p)]"
      ],
      "execution_count": null,
      "outputs": []
    },
    {
      "cell_type": "code",
      "metadata": {
        "id": "5WmHir_wmI0Y"
      },
      "source": [
        "Y = Y[Y['attribute']==a]['raw_text']"
      ],
      "execution_count": null,
      "outputs": []
    },
    {
      "cell_type": "code",
      "metadata": {
        "id": "rx4V4tKimI0Y"
      },
      "source": [
        "Y = Y.iloc[0]"
      ],
      "execution_count": null,
      "outputs": []
    },
    {
      "cell_type": "code",
      "metadata": {
        "id": "IdX2h4jRmI0Y",
        "outputId": "965bc3b9-7c6a-4925-d85c-ca036944829c"
      },
      "source": [
        "Y"
      ],
      "execution_count": null,
      "outputs": [
        {
          "output_type": "execute_result",
          "data": {
            "text/plain": [
              "'Information You Give Us We may collect information you choose to provide to us, such as your\\u200e name, email address, mobile phone number,\\u200e your photo, your friends\\' contact information as stored on your phone, and the content that you create, such as your texts, photos, and videos. If, as part of your use of the Service, you connect your Service account with an account from a supported social network account, such as Facebook (a \"Social Media Account\"), we may receive personal information from the corresponding social network that relates to your Social Media Account. Such personal information may be about you and/or your Social Media Account contacts. Please check the policies of the applicable social network in order to understand what information we receive. Even if you later disconnect your Service account from your Social Media Account, we still keep a copy of the personal information (such as your Social Media Account profile photo and your contact list) that we received from the connection of the two accounts, so that we may more easily connect you with your Social Media Account contacts who register with the Service in the future.Information We Get from Others We may get information about you from other sources, including from social networks you link to through the Service. We may add this to information we get from the Service.Information Automatically Collected We use a third-party Service Provider (defined below) to automatically log information about you and your computer or mobile device, and how you use and interact with the Service. For example, when you access the Service, we may log\\u200e your operating system type,\\u200e browser type and\\u200e language,\\u200e the pages you viewed,\\u200e how long you spent on a page,\\u200e access times,\\u200e Internet protocol (IP) address, your mobile device ID, mobile device serial number, unique user ID, wireless carrier, and information about your use of and actions on the Service. We may also use third party advertisements to support our Service. Some of these advertisers may use technology such as cookies, web beacons, pixel tags, or log files when they advertise on our Service, which may send these advertisers information, including your non-personal information.'"
            ]
          },
          "metadata": {
            "tags": []
          },
          "execution_count": 102
        }
      ]
    },
    {
      "cell_type": "code",
      "metadata": {
        "id": "L5S3vAVImI0Z"
      },
      "source": [
        "import re\n",
        "\n",
        "tokens = Y.split()\n",
        "\n",
        "pattern = re.compile(\"^[0-9]\")\n",
        "\n",
        "text = \"\"\n",
        "\n",
        "for token in tokens:\n",
        "    if not(pattern.match(token)):\n",
        "        text+=\" \"+token"
      ],
      "execution_count": null,
      "outputs": []
    },
    {
      "cell_type": "code",
      "metadata": {
        "id": "Uo228XkrmI0Z"
      },
      "source": [
        "sentences=sent_tokenize(text)"
      ],
      "execution_count": null,
      "outputs": []
    },
    {
      "cell_type": "code",
      "metadata": {
        "id": "DjcRreFimI0Z",
        "outputId": "70b37b12-10cf-4322-fab2-cb07e8230816"
      },
      "source": [
        "encoded =  encoder.encode(sentences)"
      ],
      "execution_count": null,
      "outputs": [
        {
          "output_type": "stream",
          "text": [
            "2\n",
            "8\n",
            "3\n",
            "7\n",
            "31\n",
            "46\n",
            "49\n"
          ],
          "name": "stdout"
        }
      ]
    },
    {
      "cell_type": "code",
      "metadata": {
        "id": "O6NtY5DImI0a"
      },
      "source": [
        "import numpy as np\n",
        "from sklearn.cluster import KMeans"
      ],
      "execution_count": null,
      "outputs": []
    },
    {
      "cell_type": "code",
      "metadata": {
        "id": "qODq8PuBmI0a"
      },
      "source": [
        "n_clusters = np.ceil(len(encoded)**0.5)"
      ],
      "execution_count": null,
      "outputs": []
    },
    {
      "cell_type": "code",
      "metadata": {
        "id": "sIaG3oOamI0a"
      },
      "source": [
        "n_clusters=int(n_clusters)"
      ],
      "execution_count": null,
      "outputs": []
    },
    {
      "cell_type": "code",
      "metadata": {
        "id": "FviVE98tmI0b",
        "outputId": "c94908fd-37e8-454f-87b5-573882bea098"
      },
      "source": [
        "encoded"
      ],
      "execution_count": null,
      "outputs": [
        {
          "output_type": "execute_result",
          "data": {
            "text/plain": [
              "array([[ 0.00139393, -0.00816991, -0.0073955 , ..., -0.00453779,\n",
              "         0.00265549,  0.00420203],\n",
              "       [-0.00354505, -0.01729878, -0.01056306, ..., -0.0277153 ,\n",
              "         0.00344372, -0.00924397],\n",
              "       [ 0.00119987, -0.00966475,  0.00047363, ..., -0.00534451,\n",
              "         0.00268995,  0.00328118],\n",
              "       ...,\n",
              "       [ 0.00378185, -0.0032744 ,  0.00171676, ...,  0.00899505,\n",
              "         0.02423425,  0.00909188],\n",
              "       [-0.00128436, -0.0061001 , -0.00438676, ...,  0.00718953,\n",
              "         0.00225982,  0.00336047],\n",
              "       [ 0.00367344, -0.02428798,  0.0189517 , ...,  0.00370996,\n",
              "         0.02707917,  0.00582755]], dtype=float32)"
            ]
          },
          "metadata": {
            "tags": []
          },
          "execution_count": 18
        }
      ]
    },
    {
      "cell_type": "code",
      "metadata": {
        "id": "TSFqoXInmI0b"
      },
      "source": [
        "kmeans = KMeans(n_clusters=n_clusters)"
      ],
      "execution_count": null,
      "outputs": []
    },
    {
      "cell_type": "code",
      "metadata": {
        "id": "n8CY7PMAmI0b",
        "outputId": "407a7681-2fdf-4d4e-bbd9-686970038da3"
      },
      "source": [
        "encoded.shape"
      ],
      "execution_count": null,
      "outputs": [
        {
          "output_type": "execute_result",
          "data": {
            "text/plain": [
              "(8, 4800)"
            ]
          },
          "metadata": {
            "tags": []
          },
          "execution_count": 20
        }
      ]
    },
    {
      "cell_type": "code",
      "metadata": {
        "id": "rMxt3wM1mI0c"
      },
      "source": [
        "from sklearn import datasets"
      ],
      "execution_count": null,
      "outputs": []
    },
    {
      "cell_type": "code",
      "metadata": {
        "id": "e8D8LVqdmI0c",
        "outputId": "ab48d047-f6d5-4eae-dc9f-05ce12bfebda"
      },
      "source": [
        "iris = datasets.load_iris()\n",
        "X = iris.data\n",
        "X.shape"
      ],
      "execution_count": null,
      "outputs": [
        {
          "output_type": "execute_result",
          "data": {
            "text/plain": [
              "(150, 4)"
            ]
          },
          "metadata": {
            "tags": []
          },
          "execution_count": 22
        }
      ]
    },
    {
      "cell_type": "code",
      "metadata": {
        "id": "X_p2GBGZmI0d"
      },
      "source": [
        "kmeans = kmeans.fit(encoded)"
      ],
      "execution_count": null,
      "outputs": []
    },
    {
      "cell_type": "code",
      "metadata": {
        "id": "gc8UGedVmI0d"
      },
      "source": [
        "from sklearn.metrics import pairwise_distances_argmin_min\n",
        "\n",
        "avg = []\n",
        "for j in range(n_clusters):\n",
        "    idx = np.where(kmeans.labels_ == j)[0]\n",
        "    avg.append(np.mean(idx))\n",
        "closest, _ = pairwise_distances_argmin_min(kmeans.cluster_centers_, encoded)\n",
        "ordering = sorted(range(n_clusters), key=lambda k: avg[k])\n",
        "summary = ' '.join([text[closest[idx]] for idx in ordering])"
      ],
      "execution_count": null,
      "outputs": []
    },
    {
      "cell_type": "code",
      "metadata": {
        "id": "faeXViSHmI0e",
        "outputId": "b542bd92-3b52-4bd1-c8c7-764fad488e1d"
      },
      "source": [
        "summary"
      ],
      "execution_count": null,
      "outputs": [
        {
          "output_type": "execute_result",
          "data": {
            "text/plain": [
              "'. W T'"
            ]
          },
          "metadata": {
            "tags": []
          },
          "execution_count": 25
        }
      ]
    },
    {
      "cell_type": "code",
      "metadata": {
        "id": "GGpdyQ1NmI0e"
      },
      "source": [
        "import matplotlib.pyplot as plt\n"
      ],
      "execution_count": null,
      "outputs": []
    },
    {
      "cell_type": "code",
      "metadata": {
        "id": "aurARZoXmI0e",
        "outputId": "3ce0a1a3-e15c-4f02-b0eb-e9dbca1d3f4d"
      },
      "source": [
        "plt.scatter(encoded)\n",
        "plt.show()"
      ],
      "execution_count": null,
      "outputs": [
        {
          "output_type": "error",
          "ename": "TypeError",
          "evalue": "scatter() missing 1 required positional argument: 'y'",
          "traceback": [
            "\u001b[0;31m---------------------------------------------------------------------------\u001b[0m",
            "\u001b[0;31mTypeError\u001b[0m                                 Traceback (most recent call last)",
            "\u001b[0;32m<ipython-input-27-3e87785a27a3>\u001b[0m in \u001b[0;36m<module>\u001b[0;34m\u001b[0m\n\u001b[0;32m----> 1\u001b[0;31m \u001b[0mplt\u001b[0m\u001b[0;34m.\u001b[0m\u001b[0mscatter\u001b[0m\u001b[0;34m(\u001b[0m\u001b[0mencoded\u001b[0m\u001b[0;34m)\u001b[0m\u001b[0;34m\u001b[0m\u001b[0m\n\u001b[0m\u001b[1;32m      2\u001b[0m \u001b[0mplt\u001b[0m\u001b[0;34m.\u001b[0m\u001b[0mshow\u001b[0m\u001b[0;34m(\u001b[0m\u001b[0;34m)\u001b[0m\u001b[0;34m\u001b[0m\u001b[0m\n",
            "\u001b[0;31mTypeError\u001b[0m: scatter() missing 1 required positional argument: 'y'"
          ]
        }
      ]
    },
    {
      "cell_type": "code",
      "metadata": {
        "id": "549fuAM0mI0f",
        "outputId": "2b4da5f2-f161-4f87-f502-c54f6ef58ade"
      },
      "source": [
        "sentences"
      ],
      "execution_count": null,
      "outputs": [
        {
          "output_type": "execute_result",
          "data": {
            "text/plain": [
              "[' A.',\n",
              " 'WHAT KIND OF INFORMATION WE COLLECT a.',\n",
              " 'Personal Information.',\n",
              " 'We do not collect Personal Information.',\n",
              " '\"Personal Information\" is information that identifies you or another person, which may be transmitted or received when you use an Application, the Services and/or the Site.',\n",
              " 'ion includes your names, physical addresses, email addresses, telephone, fax, SSN, information stored within your Device and other information you transmit or receive using an Application, the Service and or the Site which identifies you or another person.b.',\n",
              " 'Non-personal identification.',\n",
              " 'We may collect non-personal identification information about installed applications, application usage information and device information.The information you give us, for example, when you give us your opinions to our application and services via our feedback channel, such as your email address, and names;']"
            ]
          },
          "metadata": {
            "tags": []
          },
          "execution_count": 28
        }
      ]
    },
    {
      "cell_type": "markdown",
      "metadata": {
        "id": "tednXjg2mI0f"
      },
      "source": [
        "## Final Summarizer "
      ]
    },
    {
      "cell_type": "code",
      "metadata": {
        "id": "jbFCHlW3m_f-"
      },
      "source": [
        "# "
      ],
      "execution_count": null,
      "outputs": []
    },
    {
      "cell_type": "code",
      "metadata": {
        "id": "Kjho83nrmI0g",
        "outputId": "5dc3f109-6466-4255-d9b5-071f7e2a5ef0"
      },
      "source": [
        "# from IPython.core.display import display, HTML\n",
        "# display(HTML(\"<style>.container { width:100% !important; }</style>\"))"
      ],
      "execution_count": null,
      "outputs": [
        {
          "output_type": "display_data",
          "data": {
            "text/html": [
              "<style>.container { width:50% !important; }</style>"
            ],
            "text/plain": [
              "<IPython.core.display.HTML object>"
            ]
          },
          "metadata": {
            "tags": []
          }
        }
      ]
    },
    {
      "cell_type": "code",
      "metadata": {
        "scrolled": true,
        "id": "UuwBgenZmI0g"
      },
      "source": [
        "text=Y"
      ],
      "execution_count": null,
      "outputs": []
    },
    {
      "cell_type": "code",
      "metadata": {
        "id": "J1bIc3jFmI0h"
      },
      "source": [
        "from pyteaser import Summarize"
      ],
      "execution_count": null,
      "outputs": []
    },
    {
      "cell_type": "code",
      "metadata": {
        "id": "eeevUzL4mI0h",
        "outputId": "4923ba3c-2401-4715-ee7f-8fd81acbe9be"
      },
      "source": [
        "text"
      ],
      "execution_count": null,
      "outputs": [
        {
          "output_type": "execute_result",
          "data": {
            "text/plain": [
              "'Information You Give Us We may collect information you choose to provide to us, such as your\\u200e name, email address, mobile phone number,\\u200e your photo, your friends\\' contact information as stored on your phone, and the content that you create, such as your texts, photos, and videos. If, as part of your use of the Service, you connect your Service account with an account from a supported social network account, such as Facebook (a \"Social Media Account\"), we may receive personal information from the corresponding social network that relates to your Social Media Account. Such personal information may be about you and/or your Social Media Account contacts. Please check the policies of the applicable social network in order to understand what information we receive. Even if you later disconnect your Service account from your Social Media Account, we still keep a copy of the personal information (such as your Social Media Account profile photo and your contact list) that we received from the connection of the two accounts, so that we may more easily connect you with your Social Media Account contacts who register with the Service in the future.Information We Get from Others We may get information about you from other sources, including from social networks you link to through the Service. We may add this to information we get from the Service.Information Automatically Collected We use a third-party Service Provider (defined below) to automatically log information about you and your computer or mobile device, and how you use and interact with the Service. For example, when you access the Service, we may log\\u200e your operating system type,\\u200e browser type and\\u200e language,\\u200e the pages you viewed,\\u200e how long you spent on a page,\\u200e access times,\\u200e Internet protocol (IP) address, your mobile device ID, mobile device serial number, unique user ID, wireless carrier, and information about your use of and actions on the Service. We may also use third party advertisements to support our Service. Some of these advertisers may use technology such as cookies, web beacons, pixel tags, or log files when they advertise on our Service, which may send these advertisers information, including your non-personal information.'"
            ]
          },
          "metadata": {
            "tags": []
          },
          "execution_count": 105
        }
      ]
    },
    {
      "cell_type": "code",
      "metadata": {
        "id": "R2KW1eVqmI0h"
      },
      "source": [
        "l=Summarize('Info text', text)"
      ],
      "execution_count": null,
      "outputs": []
    },
    {
      "cell_type": "code",
      "metadata": {
        "id": "94MS-zCdmI0h"
      },
      "source": [
        "x=\" \".join(l)"
      ],
      "execution_count": null,
      "outputs": []
    },
    {
      "cell_type": "code",
      "metadata": {
        "id": "TcdW6QjLmI0i",
        "outputId": "7d88e11c-81dc-4d88-b743-5fa392e7b80e"
      },
      "source": [
        "x"
      ],
      "execution_count": null,
      "outputs": [
        {
          "output_type": "execute_result",
          "data": {
            "text/plain": [
              "'Such personal information may be about you and/or your Social Media Account contacts. Please check the policies of the applicable social network in order to understand what information we receive. If, as part of your use of the Service, you connect your Service account with an account from a supported social network account, such as Facebook (a \"Social Media Account\"), we may receive personal information from the corresponding social network that relates to your Social Media Account.  Some of these advertisers may use technology such as cookies, web beacons, pixel tags, or log files when they advertise on our Service, which may send these advertisers information, including your non-personal information. We may also use third party advertisements to support our Service.'"
            ]
          },
          "metadata": {
            "tags": []
          },
          "execution_count": 108
        }
      ]
    },
    {
      "cell_type": "code",
      "metadata": {
        "id": "AgiPZUdzmI0i",
        "outputId": "56c29c17-6f69-4128-9e9b-825d4f359c45"
      },
      "source": [
        "len(text)"
      ],
      "execution_count": null,
      "outputs": [
        {
          "output_type": "execute_result",
          "data": {
            "text/plain": [
              "582"
            ]
          },
          "metadata": {
            "tags": []
          },
          "execution_count": 52
        }
      ]
    },
    {
      "cell_type": "code",
      "metadata": {
        "id": "EAft9k9zmI0i",
        "outputId": "b14726bc-5f44-49e5-d675-dd5a8d1b3284"
      },
      "source": [
        "len(x)"
      ],
      "execution_count": null,
      "outputs": [
        {
          "output_type": "execute_result",
          "data": {
            "text/plain": [
              "583"
            ]
          },
          "metadata": {
            "tags": []
          },
          "execution_count": 53
        }
      ]
    },
    {
      "cell_type": "code",
      "metadata": {
        "id": "dzbwuUUnmI0j"
      },
      "source": [
        ""
      ],
      "execution_count": null,
      "outputs": []
    }
  ]
}